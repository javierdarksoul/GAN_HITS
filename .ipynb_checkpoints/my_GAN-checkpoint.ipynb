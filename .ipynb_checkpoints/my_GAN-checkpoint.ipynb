{
 "cells": [
  {
   "cell_type": "markdown",
   "metadata": {},
   "source": [
    "## Definimos el modelo"
   ]
  },
  {
   "cell_type": "markdown",
   "metadata": {},
   "source": [
    "La arquitectura se dividio en 2 redes neuronales:\n",
    "\n",
    "Generador: Para el generador, se siguió la arquitectura propuesta en el paper de DCGan, capas convolucionales transpuestas seguidas de batchnorm y activador ReLU. Para la capa final se probaron 2 funciones de activación: Sigmoide y Tanh, sin embargo, la calidad de las imagenes generadas no era aceptable, por lo cual dejar la salida sin activación fue lo que mejor resultado nos entrega. Como las imagenes reales están normalizadas con valores entre 0 y 1, la salida del generador pasa por una normalización también.\n",
    "\n",
    "Discriminador: Al igual que en el generador, se siguió como modelo la arquitectura propuesta en el paper DCGAN, capas convolucionales seguidas de batchnorm y activador LeakyReLU. Teniamos un problema al entrenar debido a que el discriminador se ajustaba muy rápido con respecto al generador, produciendo que la loss del generador subiera a lo largo del entrenamiento. La solución que encontramos fue suavizar la entrada del discriminador añadiendole ruido blanco gaussiano (link ref https://www.inference.vc/instance-noise-a-trick-for-stabilising-gan-training/), logrando así estabilidad en el entrenamiento."
   ]
  },
  {
   "cell_type": "code",
   "execution_count": 1,
   "metadata": {},
   "outputs": [],
   "source": [
    "import torch\n",
    "import matplotlib.pyplot as plt\n",
    "class GAN_Generator(torch.nn.Module):\n",
    "    \n",
    "    def __init__(self, convtrans_channel=[8,16,24,48,1], conv_channel=[1,3,6,1],z_dim=64,channel_input=1,bs=128,device='cuda'):\n",
    "        \n",
    "        super(type(self), self).__init__()\n",
    "        self.z_dim=z_dim\n",
    "        self.batch=bs\n",
    "        self.channel=channel_input\n",
    "        self.device=device\n",
    "        \n",
    "        self.generative_layers = torch.nn.Sequential(\n",
    "                                  torch.nn.ConvTranspose2d(self.channel,convtrans_channel[0],5,stride=2,padding=1 ),\n",
    "                                  torch.nn.BatchNorm2d(convtrans_channel[0]),\n",
    "                                  torch.nn.ReLU(True),\n",
    "                                  torch.nn.ConvTranspose2d(convtrans_channel[0],convtrans_channel[1],5,padding=1),\n",
    "                                  torch.nn.BatchNorm2d(convtrans_channel[1]),\n",
    "                                  torch.nn.ReLU(True),\n",
    "                                  torch.nn.ConvTranspose2d(convtrans_channel[1],convtrans_channel[2],5,padding=1),\n",
    "                                  torch.nn.BatchNorm2d(convtrans_channel[2]),\n",
    "                                  torch.nn.ReLU(True),\n",
    "                                  torch.nn.ConvTranspose2d(convtrans_channel[2],convtrans_channel[3],5,padding=2),\n",
    "                                  torch.nn.BatchNorm2d(convtrans_channel[3]),\n",
    "                                  torch.nn.ReLU(True),\n",
    "                                  torch.nn.ConvTranspose2d(convtrans_channel[3],convtrans_channel[4],5,padding=2),\n",
    "                                  #torch.nn.Sigmoid(),\n",
    "                                 # torch.nn.Tanh(),\n",
    "                                  \n",
    "            \n",
    "                                )\n",
    "    \n",
    "\n",
    "                \n",
    "    \n",
    "    def generador(self, z):\n",
    "        z=z.view(-1,self.channel,8,8)\n",
    "        x_falso=self.generative_layers(z)\n",
    "        x_falso=self.normalize(x_falso)\n",
    "        #print(x_falso.shape)\n",
    "        return x_falso\n",
    "            \n",
    "    def sample(self,size):\n",
    "        z=torch.randn(size,self.channel*self.z_dim , device=self.device)\n",
    "        return z\n",
    "    \n",
    "    def normalize(self,x):\n",
    "        im_min = x.min(dim=-1).values.min(dim=-1).values.reshape(-1, x.shape[1], 1, 1)\n",
    "        im_max = x.max(dim=-1).values.max(dim=-1).values.reshape(-1, x.shape[1], 1, 1)\n",
    "        x = (x - im_min)/(im_max-im_min)\n",
    "        return x\n",
    "       \n",
    "\n",
    "class GAN_Discriminator(torch.nn.Module):\n",
    "    \n",
    "    def __init__(self, convtrans_channel=[6,3,1], conv_channel=[1,6,12,24,1],z_dim=100,channel_input=1,bs=128,device='cuda'):\n",
    "        \n",
    "        super(type(self), self).__init__()\n",
    "        self.z_dim=z_dim\n",
    "        self.batch=bs\n",
    "        self.channel=channel_input\n",
    "        self.device=device\n",
    "        \n",
    "        ##capas generadoras\n",
    "        self.discriminator_layers= torch.nn.Sequential(\n",
    "                                   torch.nn.Conv2d(conv_channel[0],conv_channel[1],5,stride=1,padding=1),\n",
    "                                   torch.nn.BatchNorm2d(conv_channel[1]),\n",
    "                                   torch.nn.LeakyReLU(0.2),\n",
    "                                   torch.nn.Conv2d(conv_channel[1],conv_channel[2],5,stride=2,padding=1),\n",
    "                                   torch.nn.BatchNorm2d(conv_channel[2]),\n",
    "                                   torch.nn.LeakyReLU(0.2),\n",
    "                                   torch.nn.Conv2d(conv_channel[2],conv_channel[3],5,stride=1,padding=1),\n",
    "                                   torch.nn.BatchNorm2d(conv_channel[3]),\n",
    "                                   torch.nn.LeakyReLU(0.2),\n",
    "                                   torch.nn.Conv2d(conv_channel[3],conv_channel[3],6,stride=2,padding=1),\n",
    "                                   torch.nn.BatchNorm2d(conv_channel[3]),\n",
    "                                   torch.nn.LeakyReLU(0.2),\n",
    "                                   torch.nn.Conv2d(conv_channel[3],conv_channel[4],4,stride=2,padding=1),\n",
    "                                   torch.nn.Sigmoid(),                                \n",
    "        \n",
    "                                )\n",
    "\n",
    "        \n",
    "    def discriminador(self,supuesto_x):\n",
    "        noise=torch.randn(supuesto_x.shape , device=self.device) ##agregando ruido blanco gaussiano para estabilizar entrenamiento\n",
    "        supuesto_x= torch.clamp(supuesto_x + noise,0.01, 1.0) \n",
    "        supuesto_x=self.discriminator_layers(supuesto_x)\n",
    "        supuesto_x=supuesto_x.view(-1)\n",
    "        \n",
    "        return supuesto_x\n",
    "    \n",
    "def loss_disc(disc_datos_xfalso,disc_datos_x,size):\n",
    "    loss=(torch.log(disc_datos_x) + torch.log(1 - disc_datos_xfalso) ).sum() / size\n",
    "    return -loss\n",
    "    \n",
    "def loss_gen(disc_datos_xfalso,size):\n",
    "    loss=torch.log(disc_datos_xfalso).sum() / size\n",
    "    return -loss"
   ]
  },
  {
   "cell_type": "code",
   "execution_count": 2,
   "metadata": {},
   "outputs": [
    {
     "name": "stdout",
     "output_type": "stream",
     "text": [
      "\u001b[0m\u001b[01;32mimages_test.csv\u001b[0m*  \u001b[01;32mimages_train.csv\u001b[0m*  \u001b[01;32mlabel_test.csv\u001b[0m*  \u001b[01;32mlabel_train.csv\u001b[0m*\r\n"
     ]
    }
   ],
   "source": [
    "ls /opt/data-nas/HiTS"
   ]
  },
  {
   "cell_type": "markdown",
   "metadata": {},
   "source": [
    "### cargamos el CSV de entrenamiento"
   ]
  },
  {
   "cell_type": "code",
   "execution_count": 3,
   "metadata": {},
   "outputs": [],
   "source": [
    "import pandas as pd\n",
    "import numpy as np\n",
    "df=pd.read_csv(\"/opt/data-nas/HiTS/images_train.csv\",header=None)\n",
    "differences=np.array(df.iloc[:,0:21*21])\n",
    "df=0  ##manera trucha de liberar memoria by javier rojas\n",
    "df=pd.read_csv(\"/opt/data-nas/HiTS/label_train.csv\",header=None)\n",
    "labels=np.array(df)\n",
    "df=0"
   ]
  },
  {
   "cell_type": "markdown",
   "metadata": {},
   "source": [
    "### creamos dataloader"
   ]
  },
  {
   "cell_type": "code",
   "execution_count": 4,
   "metadata": {},
   "outputs": [],
   "source": [
    "from torch.utils.data import TensorDataset, DataLoader, Subset \n",
    "batch_size=128\n",
    "astro_image_tensor=torch.from_numpy(differences.astype('float32')).view(-1,1,21,21)\n",
    "im_min = astro_image_tensor.min(dim=-1).values.min(dim=-1).values.reshape(-1, 1, 1, 1)\n",
    "im_max = astro_image_tensor.max(dim=-1).values.max(dim=-1).values.reshape(-1, 1, 1, 1)\n",
    "astro_image_tensor = (astro_image_tensor - im_min)/(im_max-im_min)\n",
    "\n",
    "astro_dataset = TensorDataset(astro_image_tensor, torch.from_numpy(labels))\n",
    "\n",
    "train_loader = DataLoader(astro_dataset, \n",
    "                          batch_size=batch_size, \n",
    "                          shuffle=True)"
   ]
  },
  {
   "cell_type": "code",
   "execution_count": 6,
   "metadata": {},
   "outputs": [
    {
     "data": {
      "image/png": "[encoded data removed]",
      "text/plain": [
       "<Figure size 432x288 with 1 Axes>"
      ]
     },
     "metadata": {
      "needs_background": "light"
     },
     "output_type": "display_data"
    }
   ],
   "source": [
    "\n",
    "for image,label in train_loader:\n",
    "    \n",
    "    plt.imshow(image[0][0].detach())\n",
    "    break"
   ]
  },
  {
   "cell_type": "code",
   "execution_count": null,
   "metadata": {},
   "outputs": [],
   "source": []
  },
  {
   "cell_type": "markdown",
   "metadata": {},
   "source": [
    "## Entrenamiento"
   ]
  },
  {
   "cell_type": "code",
   "execution_count": null,
   "metadata": {},
   "outputs": [
    {
     "name": "stderr",
     "output_type": "stream",
     "text": [
      "/home/admin/miniconda3/envs/PT/lib/python3.7/site-packages/ipykernel_launcher.py:12: TqdmDeprecationWarning: This function will be removed in tqdm==5.0.0\n",
      "Please use `tqdm.notebook.tqdm` instead of `tqdm.tqdm_notebook`\n",
      "  if sys.path[0] == '':\n"
     ]
    },
    {
     "data": {
      "application/vnd.jupyter.widget-view+json": {
       "model_id": "86d716fa35554b138e4b812ef72f8a33",
       "version_major": 2,
       "version_minor": 0
      },
      "text/plain": [
       "HBox(children=(FloatProgress(value=0.0, max=500.0), HTML(value='')))"
      ]
     },
     "metadata": {},
     "output_type": "display_data"
    },
    {
     "name": "stdout",
     "output_type": "stream",
     "text": [
      "Train loss discriminador: 0.010395  Train loss Generator :0.006085 \n",
      "Train loss discriminador: 0.010502  Train loss Generator :0.005888 \n",
      "Train loss discriminador: 0.010209  Train loss Generator :0.006050 \n",
      "Train loss discriminador: 0.010429  Train loss Generator :0.005898 \n",
      "Train loss discriminador: 0.010742  Train loss Generator :0.005603 \n",
      "Train loss discriminador: 0.010827  Train loss Generator :0.005498 \n",
      "Train loss discriminador: 0.010752  Train loss Generator :0.005559 \n",
      "Train loss discriminador: 0.010786  Train loss Generator :0.005512 \n",
      "Train loss discriminador: 0.010761  Train loss Generator :0.005531 \n",
      "Train loss discriminador: 0.010744  Train loss Generator :0.005565 \n",
      "Train loss discriminador: 0.010790  Train loss Generator :0.005492 \n",
      "Train loss discriminador: 0.010761  Train loss Generator :0.005519 \n",
      "Train loss discriminador: 0.010737  Train loss Generator :0.005531 \n",
      "Train loss discriminador: 0.010762  Train loss Generator :0.005535 \n",
      "Train loss discriminador: 0.010743  Train loss Generator :0.005540 \n",
      "Train loss discriminador: 0.010714  Train loss Generator :0.005537 \n",
      "Train loss discriminador: 0.010556  Train loss Generator :0.005751 \n",
      "Train loss discriminador: 0.010335  Train loss Generator :0.005964 \n",
      "Train loss discriminador: 0.010828  Train loss Generator :0.005481 \n"
     ]
    }
   ],
   "source": [
    "from tqdm import tqdm_notebook\n",
    "n_epoch=500\n",
    "k_disc=1\n",
    "device='cuda'\n",
    "GEN=GAN_Generator(bs=batch_size).cuda()\n",
    "DISC=GAN_Discriminator(bs=batch_size).cuda()\n",
    "optimizer_gen = torch.optim.Adam(GEN.parameters(), lr=0.0002)\n",
    "optimizer_disc = torch.optim.Adam(DISC.parameters(), lr=0.0002)\n",
    "den = train_loader.__len__()*train_loader.batch_size\n",
    "criterion = torch.nn.BCELoss()\n",
    "global_loss=np.inf\n",
    "for epoch in tqdm_notebook(range(n_epoch)):\n",
    "    for k in range(k_disc):\n",
    "        train_disc_loss=0.0\n",
    "        train_gen_loss=0.0\n",
    "        for image,label in train_loader:\n",
    "            optimizer_disc.zero_grad()  \n",
    "            image=image.cuda()\n",
    "            \n",
    "            ##Train for real images\n",
    "            output_real = DISC.discriminador(image)#.view(-1)\n",
    "            label = torch.full((image.shape[0],), 1.0, dtype=torch.float, device=image.device)\n",
    "            lossD_real=criterion(output_real,label)\n",
    "            lossD_real.backward()\n",
    "            ##Train disc fake image\n",
    "            label.fill_(0)\n",
    "            fake=GEN.generador(GEN.sample(image.shape[0]))\n",
    "            output_fake_D = DISC.discriminador(fake.detach())#.view(-1)\n",
    "            lossD_fake=criterion(output_fake_D,label)\n",
    "            lossD_fake.backward()\n",
    "            #lossD=loss_disc(output_fake_D,output_real,image.shape[0])\n",
    "            #lossD.backward()\n",
    "            total_loss=lossD_fake + lossD_real\n",
    "            optimizer_disc.step()\n",
    "            #train_disc_loss += lossD.item()\n",
    "            train_disc_loss+=total_loss.item() /den\n",
    "            \n",
    "            ##Train generator\n",
    "            optimizer_gen.zero_grad()  \n",
    "            label.fill_(1) \n",
    "            output=DISC.discriminador(fake)#.view(-1)\n",
    "            lossG=criterion(output,label)\n",
    "            #lossG=loss_gen(output,image.shape[0])\n",
    "            lossG.backward()\n",
    "            #optimizer_disc.step()\n",
    "            optimizer_gen.step()\n",
    "            train_gen_loss+=lossG.item() / den\n",
    "                               \n",
    "                                 \n",
    "            \n",
    "            \n",
    "    print(\"Train loss discriminador: %f  Train loss Generator :%f \"%(train_disc_loss,train_gen_loss))\n",
    "\n"
   ]
  },
  {
   "cell_type": "markdown",
   "metadata": {},
   "source": [
    "## Guardando los modelitos"
   ]
  },
  {
   "cell_type": "code",
   "execution_count": null,
   "metadata": {},
   "outputs": [],
   "source": [
    "torch.save(GEN.state_dict(), '/opt/data-nas/Models_Javier/GEN_HITS_2.pt')\n",
    "torch.save(DISC.state_dict(), '/opt/data-nas/Models_Javier/DISC_HITS_2.pt')"
   ]
  },
  {
   "cell_type": "code",
   "execution_count": null,
   "metadata": {},
   "outputs": [],
   "source": [
    "!sudo poweroff"
   ]
  },
  {
   "cell_type": "markdown",
   "metadata": {},
   "source": [
    "## Cargamos los modelitos"
   ]
  },
  {
   "cell_type": "code",
   "execution_count": 4,
   "metadata": {},
   "outputs": [
    {
     "data": {
      "text/plain": [
       "<All keys matched successfully>"
      ]
     },
     "execution_count": 4,
     "metadata": {},
     "output_type": "execute_result"
    }
   ],
   "source": [
    "GEN=GAN_Generator(device='cpu')\n",
    "DISC=GAN_Discriminator(device='cpu')\n",
    "GEN.load_state_dict(torch.load(\"/opt/data-nas/Models_Javier/GEN_HITS.pt\"))\n",
    "DISC.load_state_dict(torch.load(\"/opt/data-nas/Models_Javier/DISC_HITS.pt\"))"
   ]
  },
  {
   "cell_type": "markdown",
   "metadata": {},
   "source": [
    "#### Muestras desde red generativa"
   ]
  },
  {
   "cell_type": "code",
   "execution_count": 7,
   "metadata": {},
   "outputs": [
    {
     "data": {
      "image/png": "[encoded data removed]",
      "text/plain": [
       "<Figure size 1440x288 with 20 Axes>"
      ]
     },
     "metadata": {
      "needs_background": "light"
     },
     "output_type": "display_data"
    }
   ],
   "source": [
    "import matplotlib.pyplot as plt\n",
    "fig, ax = plt.subplots(2, 10, figsize=(20, 4))\n",
    "for i in range(2):\n",
    "    for j in range(10):\n",
    "        ax[i,j].imshow(GEN.generador(GEN.sample(1))[0][0].cpu().detach().numpy(),cmap=\"gray\")\n",
    "        ax[i,j].axis('off')\n"
   ]
  },
  {
   "cell_type": "markdown",
   "metadata": {},
   "source": [
    "Se aprecia que las imagenes generadas pareciera ser una interpolación entre basura y transiente. Además se nota que las imágenes generadas no son muy diferentes, creemos que el modelo se centró en generar imágenes de un tipo. "
   ]
  },
  {
   "cell_type": "markdown",
   "metadata": {},
   "source": [
    "## Tareas pendientes a futuro"
   ]
  },
  {
   "cell_type": "markdown",
   "metadata": {},
   "source": [
    "* Entrenar por mas épocas, el dataset de HiTS es demasiado extenso y demora en entrenar, por lo cual hubiese sido ideal entrenarlo por al menos unas 200 épocas.\n",
    "\n",
    "* Guardar el mejor modelo, como la GAN son 2 redes, quedó pendiente si guardar el mejor modelo para el generador y discriminador por separado dependiendo de su función de perdida o si guardar el mejor modelo solo si el generador disminuye. Actualmente solo guarda el ultimo modelo, que claramente no implica que sea el mejor"
   ]
  },
  {
   "cell_type": "code",
   "execution_count": null,
   "metadata": {},
   "outputs": [],
   "source": []
  }
 ],
 "metadata": {
  "kernelspec": {
   "display_name": "Python 3",
   "language": "python",
   "name": "python3"
  },
  "language_info": {
   "codemirror_mode": {
    "name": "ipython",
    "version": 3
   },
   "file_extension": ".py",
   "mimetype": "text/x-python",
   "name": "python",
   "nbconvert_exporter": "python",
   "pygments_lexer": "ipython3",
   "version": "3.7.7"
  }
 },
 "nbformat": 4,
 "nbformat_minor": 4
}
