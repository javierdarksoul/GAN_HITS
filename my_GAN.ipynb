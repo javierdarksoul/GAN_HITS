{
 "cells": [
  {
   "cell_type": "code",
   "execution_count": 1,
   "metadata": {},
   "outputs": [],
   "source": [
    "import torch"
   ]
  },
  {
   "cell_type": "code",
   "execution_count": 91,
   "metadata": {},
   "outputs": [],
   "source": [
    "class GAN(torch.nn.Module):\n",
    "    \n",
    "    def __init__(self, convtrans_channel=[6,3,3],z_dim=8,channel_input=8):\n",
    "        \n",
    "        super(type(self), self).__init__()\n",
    "        self.z_dim=z_dim\n",
    "        self.batch=32\n",
    "        self.channel=channel_input\n",
    "        \n",
    "        ##capas generadoras\n",
    "        self.generative_layers = torch.nn.Sequential(\n",
    "                                  torch.nn.ConvTranspose2d(self.channel,convtrans_channel[0],4,stride=2,padding=2\n",
    "                                                          ),\n",
    "                                  torch.nn.ReLU(),\n",
    "                                  torch.nn.ConvTranspose2d(convtrans_channel[0],convtrans_channel[1],5,padding=4),\n",
    "                                  torch.nn.ReLU(),\n",
    "                                  torch.nn.ConvTranspose2d(convtrans_channel[1],convtrans_channel[2],3,stride=2),\n",
    "                                  \n",
    "            \n",
    "                                )\n",
    "        \n",
    "        \n",
    "        self.activation=torch.nn.ReLU()\n",
    "        \n",
    "    \n",
    "    def generador(self, z):\n",
    "        x_falso=self.generative_layers(z)\n",
    "        return x_falso\n",
    "        \n",
    "    def discriminador(self,z):\n",
    "        \n",
    "        return z\n",
    "    \n",
    "    def sample(self):\n",
    "        z=torch.randn(self.batch,self.channel,self.z_dim,self.z_dim)\n",
    "        x_falso=self.generador(z)\n",
    "        \n",
    "        return z\n",
    "    \n",
    "    def forward(self):\n",
    "        z=self.sample()\n",
    "        x_falso=self.generador(z)\n",
    "        print(x_falso.shape)\n",
    "    \n",
    "###preguntas: 1- sampleo, está bien un cubo desde una distribucion normal estandar 0,1?\n",
    "###pregunta 2: dimension de HitS, 3 canales con dimension 21,21? o 1 canal con dimension 21,21*21 ?? como podria afectar una u otra forma?"
   ]
  },
  {
   "cell_type": "code",
   "execution_count": 92,
   "metadata": {},
   "outputs": [],
   "source": [
    "model=GAN()"
   ]
  },
  {
   "cell_type": "code",
   "execution_count": 93,
   "metadata": {},
   "outputs": [
    {
     "name": "stdout",
     "output_type": "stream",
     "text": [
      "torch.Size([32, 3, 21, 21])\n"
     ]
    }
   ],
   "source": [
    "model.forward()"
   ]
  },
  {
   "cell_type": "code",
   "execution_count": null,
   "metadata": {},
   "outputs": [],
   "source": []
  },
  {
   "cell_type": "code",
   "execution_count": null,
   "metadata": {},
   "outputs": [],
   "source": []
  },
  {
   "cell_type": "code",
   "execution_count": null,
   "metadata": {},
   "outputs": [],
   "source": []
  }
 ],
 "metadata": {
  "kernelspec": {
   "display_name": "Python 3",
   "language": "python",
   "name": "python3"
  },
  "language_info": {
   "codemirror_mode": {
    "name": "ipython",
    "version": 3
   },
   "file_extension": ".py",
   "mimetype": "text/x-python",
   "name": "python",
   "nbconvert_exporter": "python",
   "pygments_lexer": "ipython3",
   "version": "3.7.7"
  }
 },
 "nbformat": 4,
 "nbformat_minor": 4
}
