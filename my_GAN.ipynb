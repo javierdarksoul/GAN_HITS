{
 "cells": [
  {
   "cell_type": "code",
   "execution_count": 2,
   "metadata": {},
   "outputs": [],
   "source": [
    "import torch"
   ]
  },
  {
   "cell_type": "code",
   "execution_count": 170,
   "metadata": {},
   "outputs": [],
   "source": [
    "class GAN(torch.nn.Module):\n",
    "    \n",
    "    def __init__(self, convtrans_channel=[6,3,1], conv_channel=[1,3,6,1],z_dim=8,channel_input=8):\n",
    "        \n",
    "        super(type(self), self).__init__()\n",
    "        self.z_dim=z_dim\n",
    "        self.batch=32\n",
    "        self.channel=channel_input\n",
    "        \n",
    "        ##capas generadoras\n",
    "        self.generative_layers = torch.nn.Sequential(\n",
    "                                  torch.nn.ConvTranspose2d(self.channel,convtrans_channel[0],4,stride=2,padding=2 ),\n",
    "                                  torch.nn.BatchNorm2d(convtrans_channel[0]),\n",
    "                                  torch.nn.ReLU(),\n",
    "                                  torch.nn.ConvTranspose2d(convtrans_channel[0],convtrans_channel[1],5,padding=4),\n",
    "                                  torch.nn.BatchNorm2d(convtrans_channel[1]),\n",
    "                                  torch.nn.ReLU(),\n",
    "                                  torch.nn.ConvTranspose2d(convtrans_channel[1],convtrans_channel[2],3,stride=2),\n",
    "                                  torch.nn.Tanh(),\n",
    "                                  \n",
    "            \n",
    "                                )\n",
    "        self.discriminator_layers= torch.nn.Sequential(\n",
    "                                   torch.nn.Conv2d(conv_channel[0],conv_channel[1],5,stride=2,padding=1),\n",
    "                                   torch.nn.LeakyReLU(),\n",
    "                                   torch.nn.Conv2d(conv_channel[1],conv_channel[2],5,stride=3,padding=1),\n",
    "                                   torch.nn.BatchNorm2d(conv_channel[2]),\n",
    "                                   torch.nn.LeakyReLU(),\n",
    "                                   torch.nn.Conv2d(conv_channel[2],conv_channel[3],5,stride=2,padding=1),\n",
    "                                   torch.nn.Sigmoid(),                                \n",
    "        \n",
    "                                )\n",
    "        \n",
    "        \n",
    "        self.activation=torch.nn.ReLU()\n",
    "        \n",
    "    \n",
    "    def generador(self, z):\n",
    "        x_falso=self.generative_layers(z)\n",
    "        print(x_falso.shape)\n",
    "        return x_falso\n",
    "        \n",
    "    def discriminador(self,supuesto_x):\n",
    "        supuesto_x=self.discriminator_layers(supuesto_x)\n",
    "        supuesto_x=supuesto_x.view(-1,1)\n",
    "        return supuesto_x\n",
    "    \n",
    "    def sample(self):\n",
    "        z=torch.randn(self.batch,self.channel,self.z_dim,self.z_dim)\n",
    "        x_falso=self.generador(z)\n",
    "        return z\n",
    "    \n",
    "    def forward(self):\n",
    "        z=self.sample()\n",
    "        x_falso=self.generador(z)\n",
    "        ezreal=self.discriminador(x_falso)\n",
    "        print(\"ezreal\",ezreal)\n",
    "        print(x_falso.shape)\n",
    "    \n"
   ]
  },
  {
   "cell_type": "code",
   "execution_count": 171,
   "metadata": {},
   "outputs": [],
   "source": [
    "model=GAN()"
   ]
  },
  {
   "cell_type": "code",
   "execution_count": 172,
   "metadata": {},
   "outputs": [
    {
     "name": "stdout",
     "output_type": "stream",
     "text": [
      "torch.Size([32, 1, 21, 21])\n",
      "torch.Size([32, 1, 21, 21])\n",
      "ezreal tensor([[0.5269],\n",
      "        [0.5595],\n",
      "        [0.4718],\n",
      "        [0.5822],\n",
      "        [0.5390],\n",
      "        [0.5509],\n",
      "        [0.5272],\n",
      "        [0.5264],\n",
      "        [0.5235],\n",
      "        [0.4889],\n",
      "        [0.5320],\n",
      "        [0.4788],\n",
      "        [0.5184],\n",
      "        [0.5616],\n",
      "        [0.5589],\n",
      "        [0.5588],\n",
      "        [0.5487],\n",
      "        [0.5603],\n",
      "        [0.4694],\n",
      "        [0.5217],\n",
      "        [0.4980],\n",
      "        [0.5124],\n",
      "        [0.5633],\n",
      "        [0.5878],\n",
      "        [0.6256],\n",
      "        [0.4985],\n",
      "        [0.5209],\n",
      "        [0.4371],\n",
      "        [0.5133],\n",
      "        [0.5448],\n",
      "        [0.5323],\n",
      "        [0.4866]], grad_fn=<ViewBackward>)\n",
      "torch.Size([32, 1, 21, 21])\n"
     ]
    }
   ],
   "source": [
    "model.forward()"
   ]
  },
  {
   "cell_type": "code",
   "execution_count": null,
   "metadata": {},
   "outputs": [],
   "source": []
  },
  {
   "cell_type": "code",
   "execution_count": null,
   "metadata": {},
   "outputs": [],
   "source": []
  },
  {
   "cell_type": "code",
   "execution_count": null,
   "metadata": {},
   "outputs": [],
   "source": []
  }
 ],
 "metadata": {
  "kernelspec": {
   "display_name": "Python 3",
   "language": "python",
   "name": "python3"
  },
  "language_info": {
   "codemirror_mode": {
    "name": "ipython",
    "version": 3
   },
   "file_extension": ".py",
   "mimetype": "text/x-python",
   "name": "python",
   "nbconvert_exporter": "python",
   "pygments_lexer": "ipython3",
   "version": "3.7.7"
  }
 },
 "nbformat": 4,
 "nbformat_minor": 4
}
