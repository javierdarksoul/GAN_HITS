{
 "cells": [
  {
   "cell_type": "code",
   "execution_count": 1,
   "metadata": {},
   "outputs": [],
   "source": [
    "import torch"
   ]
  },
  {
   "cell_type": "code",
   "execution_count": 2,
   "metadata": {},
   "outputs": [],
   "source": [
    "class GAN(torch.nn.Module):\n",
    "    \n",
    "    def __init__(self, convtrans_channel=[6,3,1], conv_channel=[1,3,6,1],z_dim=64,channel_input=1,bs=128,device='cuda'):\n",
    "        \n",
    "        super(type(self), self).__init__()\n",
    "        self.z_dim=z_dim\n",
    "        self.batch=bs\n",
    "        self.channel=channel_input\n",
    "        self.device=device\n",
    "        \n",
    "        ##capas generadoras\n",
    "        self.generative_layers = torch.nn.Sequential(\n",
    "                                  torch.nn.ConvTranspose2d(self.channel,convtrans_channel[0],4,stride=2,padding=2 ),\n",
    "                                  torch.nn.BatchNorm2d(convtrans_channel[0]),\n",
    "                                  torch.nn.ReLU(),\n",
    "                                  torch.nn.ConvTranspose2d(convtrans_channel[0],convtrans_channel[1],5,padding=4),\n",
    "                                  torch.nn.BatchNorm2d(convtrans_channel[1]),\n",
    "                                  torch.nn.ReLU(),\n",
    "                                  torch.nn.ConvTranspose2d(convtrans_channel[1],convtrans_channel[2],3,stride=2),\n",
    "                                  torch.nn.Tanh(),\n",
    "                                  \n",
    "            \n",
    "                                )\n",
    "        self.discriminator_layers= torch.nn.Sequential(\n",
    "                                   torch.nn.Conv2d(conv_channel[0],conv_channel[1],5,stride=2,padding=1),\n",
    "                                   torch.nn.LeakyReLU(),\n",
    "                                   torch.nn.Conv2d(conv_channel[1],conv_channel[2],5,stride=3,padding=1),\n",
    "                                   torch.nn.BatchNorm2d(conv_channel[2]),\n",
    "                                   torch.nn.LeakyReLU(),\n",
    "                                   torch.nn.Conv2d(conv_channel[2],conv_channel[3],5,stride=2,padding=1),\n",
    "                                   torch.nn.Sigmoid(),                                \n",
    "        \n",
    "                                )\n",
    "        \n",
    "        \n",
    "       # self.activation=torch.nn.ReLU()\n",
    "        \n",
    "    \n",
    "    def generador(self, z):\n",
    "        z=z.view(-1,self.channel,8,8)\n",
    "        x_falso=self.generative_layers(z)\n",
    "        return x_falso\n",
    "        \n",
    "    def discriminador(self,supuesto_x):\n",
    "        supuesto_x=self.discriminator_layers(supuesto_x)\n",
    "        supuesto_x=supuesto_x.view(-1,1)\n",
    "        return supuesto_x\n",
    "    \n",
    "    def sample(self,size):\n",
    "        z=torch.randn(size,self.channel*self.z_dim , device=self.device)\n",
    "        return z\n",
    "    def loss_disc(self,x):\n",
    "        x_falso=self.generador(self.sample(x.shape[0]))\n",
    "        disc_datos_x= self.discriminador(x)\n",
    "        disc_datos_xfalso= self.discriminador(x_falso)\n",
    "        loss=(torch.log(disc_datos_x) + torch.log(1 - disc_datos_xfalso) ).sum() / self.batch\n",
    "        return -loss\n",
    "    \n",
    "    def loss_gen(self,size):\n",
    "        x_falso=self.generador(self.sample(size))\n",
    "        disc_datos_xfalso=self.discriminador(x_falso)\n",
    "        loss=torch.log(disc_datos_xfalso).sum() / self.batch\n",
    "        return -loss\n",
    "        \n",
    "    def forward(self,z):\n",
    "        x_falso=self.generador(z)\n",
    "        return x_falso\n",
    "       \n",
    "def freeze_gen(model):\n",
    "    count=0\n",
    "    for parameter in model.parameters():\n",
    "        if count<10:\n",
    "            parameter.requires_grad=False\n",
    "        else:\n",
    "            parameter.requires_grad=True\n",
    "        count+=1 \n",
    "    return model\n",
    "    \n",
    "def freeze_disc(model):\n",
    "    count=0\n",
    "    for parameter in model.parameters():\n",
    "        if count<10:\n",
    "            parameter.requires_grad=True\n",
    "        else:\n",
    "            parameter.requires_grad=False\n",
    "        count+=1 \n",
    "    return model\n",
    "\n"
   ]
  },
  {
   "cell_type": "code",
   "execution_count": null,
   "metadata": {},
   "outputs": [],
   "source": []
  },
  {
   "cell_type": "code",
   "execution_count": 3,
   "metadata": {},
   "outputs": [
    {
     "name": "stdout",
     "output_type": "stream",
     "text": [
      "\u001b[0m\u001b[01;32mimages_test.csv\u001b[0m*  \u001b[01;32mimages_train.csv\u001b[0m*  \u001b[01;32mlabel_test.csv\u001b[0m*  \u001b[01;32mlabel_train.csv\u001b[0m*\r\n"
     ]
    }
   ],
   "source": [
    "ls /opt/data-nas/HiTS"
   ]
  },
  {
   "cell_type": "markdown",
   "metadata": {},
   "source": [
    "### cargamos el CSV de entrenamiento"
   ]
  },
  {
   "cell_type": "code",
   "execution_count": 4,
   "metadata": {},
   "outputs": [],
   "source": [
    "import pandas as pd\n",
    "import numpy as np\n",
    "df=pd.read_csv(\"/opt/data-nas/HiTS/images_train.csv\",header=None)\n",
    "differences=np.array(df.iloc[:,0:21*21])\n",
    "df=0  ##manera trucha de liberar memoria by javier rojas\n",
    "df=pd.read_csv(\"/opt/data-nas/HiTS/label_train.csv\",header=None)\n",
    "labels=np.array(df)\n",
    "df=0"
   ]
  },
  {
   "cell_type": "markdown",
   "metadata": {},
   "source": [
    "### creamos dataloader"
   ]
  },
  {
   "cell_type": "code",
   "execution_count": 5,
   "metadata": {},
   "outputs": [],
   "source": [
    "from torch.utils.data import TensorDataset, DataLoader, Subset \n",
    "batch_size=128\n",
    "astro_image_tensor=torch.from_numpy(differences.astype('float32')).view(-1,1,21,21)\n",
    "im_min = astro_image_tensor.min(dim=-1).values.min(dim=-1).values.reshape(-1, 1, 1, 1)\n",
    "im_max = astro_image_tensor.max(dim=-1).values.max(dim=-1).values.reshape(-1, 1, 1, 1)\n",
    "astro_image_tensor = (astro_image_tensor - im_min)/(im_max-im_min)\n",
    "\n",
    "astro_dataset = TensorDataset(astro_image_tensor, torch.from_numpy(labels))\n",
    "\n",
    "train_loader = DataLoader(astro_dataset, \n",
    "                          batch_size=batch_size, \n",
    "                          shuffle=True)"
   ]
  },
  {
   "cell_type": "markdown",
   "metadata": {},
   "source": [
    "## Entrenamiento"
   ]
  },
  {
   "cell_type": "code",
   "execution_count": 10,
   "metadata": {},
   "outputs": [
    {
     "name": "stderr",
     "output_type": "stream",
     "text": [
      "/home/admin/miniconda3/envs/PT/lib/python3.7/site-packages/ipykernel_launcher.py:9: TqdmDeprecationWarning: This function will be removed in tqdm==5.0.0\n",
      "Please use `tqdm.notebook.tqdm` instead of `tqdm.tqdm_notebook`\n",
      "  if __name__ == '__main__':\n"
     ]
    },
    {
     "data": {
      "application/vnd.jupyter.widget-view+json": {
       "model_id": "8759f83ece014e83974ded77bb4f2c08",
       "version_major": 2,
       "version_minor": 0
      },
      "text/plain": [
       "HBox(children=(FloatProgress(value=0.0, max=500.0), HTML(value='')))"
      ]
     },
     "metadata": {},
     "output_type": "display_data"
    },
    {
     "name": "stdout",
     "output_type": "stream",
     "text": [
      "Train loss discriminador:  72.3067051102189\n",
      "Train loss generador:  188.6499634800748\n",
      "Train loss discriminador:  102.78093724380597\n",
      "Train loss generador:  45.42098226145208\n",
      "Train loss discriminador:  110.53855947939883\n",
      "Train loss generador:  80.24094166222312\n",
      "Train loss discriminador:  125.31940546550322\n",
      "Train loss generador:  122.69738350524676\n",
      "Train loss discriminador:  132.37289593211608\n",
      "Train loss generador:  59.641723435459426\n",
      "Train loss discriminador:  123.01912416282721\n",
      "\n"
     ]
    },
    {
     "ename": "KeyboardInterrupt",
     "evalue": "",
     "output_type": "error",
     "traceback": [
      "\u001b[0;31m---------------------------------------------------------------------------\u001b[0m",
      "\u001b[0;31mKeyboardInterrupt\u001b[0m                         Traceback (most recent call last)",
      "\u001b[0;32m<ipython-input-10-8f592ad9f481>\u001b[0m in \u001b[0;36m<module>\u001b[0;34m\u001b[0m\n\u001b[1;32m     30\u001b[0m         \u001b[0mloss\u001b[0m\u001b[0;34m=\u001b[0m\u001b[0mmodel\u001b[0m\u001b[0;34m.\u001b[0m\u001b[0mloss_gen\u001b[0m\u001b[0;34m(\u001b[0m\u001b[0mimage\u001b[0m\u001b[0;34m.\u001b[0m\u001b[0mshape\u001b[0m\u001b[0;34m[\u001b[0m\u001b[0;36m0\u001b[0m\u001b[0;34m]\u001b[0m\u001b[0;34m)\u001b[0m\u001b[0;34m\u001b[0m\u001b[0;34m\u001b[0m\u001b[0m\n\u001b[1;32m     31\u001b[0m         \u001b[0mloss\u001b[0m\u001b[0;34m.\u001b[0m\u001b[0mbackward\u001b[0m\u001b[0;34m(\u001b[0m\u001b[0;34m)\u001b[0m\u001b[0;34m\u001b[0m\u001b[0;34m\u001b[0m\u001b[0m\n\u001b[0;32m---> 32\u001b[0;31m         \u001b[0moptimizer\u001b[0m\u001b[0;34m.\u001b[0m\u001b[0mstep\u001b[0m\u001b[0;34m(\u001b[0m\u001b[0;34m)\u001b[0m\u001b[0;34m\u001b[0m\u001b[0;34m\u001b[0m\u001b[0m\n\u001b[0m\u001b[1;32m     33\u001b[0m         \u001b[0mtrain_gen_loss\u001b[0m \u001b[0;34m+=\u001b[0m \u001b[0mloss\u001b[0m\u001b[0;34m.\u001b[0m\u001b[0mitem\u001b[0m\u001b[0;34m(\u001b[0m\u001b[0;34m)\u001b[0m\u001b[0;34m\u001b[0m\u001b[0;34m\u001b[0m\u001b[0m\n\u001b[1;32m     34\u001b[0m     \u001b[0mprint\u001b[0m\u001b[0;34m(\u001b[0m\u001b[0;34m\"Train loss generador: \"\u001b[0m\u001b[0;34m,\u001b[0m\u001b[0mtrain_gen_loss\u001b[0m\u001b[0;34m)\u001b[0m\u001b[0;34m\u001b[0m\u001b[0;34m\u001b[0m\u001b[0m\n",
      "\u001b[0;32m/home/admin/miniconda3/envs/PT/lib/python3.7/site-packages/torch/autograd/grad_mode.py\u001b[0m in \u001b[0;36mdecorate_context\u001b[0;34m(*args, **kwargs)\u001b[0m\n\u001b[1;32m     13\u001b[0m         \u001b[0;32mdef\u001b[0m \u001b[0mdecorate_context\u001b[0m\u001b[0;34m(\u001b[0m\u001b[0;34m*\u001b[0m\u001b[0margs\u001b[0m\u001b[0;34m,\u001b[0m \u001b[0;34m**\u001b[0m\u001b[0mkwargs\u001b[0m\u001b[0;34m)\u001b[0m\u001b[0;34m:\u001b[0m\u001b[0;34m\u001b[0m\u001b[0;34m\u001b[0m\u001b[0m\n\u001b[1;32m     14\u001b[0m             \u001b[0;32mwith\u001b[0m \u001b[0mself\u001b[0m\u001b[0;34m:\u001b[0m\u001b[0;34m\u001b[0m\u001b[0;34m\u001b[0m\u001b[0m\n\u001b[0;32m---> 15\u001b[0;31m                 \u001b[0;32mreturn\u001b[0m \u001b[0mfunc\u001b[0m\u001b[0;34m(\u001b[0m\u001b[0;34m*\u001b[0m\u001b[0margs\u001b[0m\u001b[0;34m,\u001b[0m \u001b[0;34m**\u001b[0m\u001b[0mkwargs\u001b[0m\u001b[0;34m)\u001b[0m\u001b[0;34m\u001b[0m\u001b[0;34m\u001b[0m\u001b[0m\n\u001b[0m\u001b[1;32m     16\u001b[0m         \u001b[0;32mreturn\u001b[0m \u001b[0mdecorate_context\u001b[0m\u001b[0;34m\u001b[0m\u001b[0;34m\u001b[0m\u001b[0m\n\u001b[1;32m     17\u001b[0m \u001b[0;34m\u001b[0m\u001b[0m\n",
      "\u001b[0;32m/home/admin/miniconda3/envs/PT/lib/python3.7/site-packages/torch/optim/adam.py\u001b[0m in \u001b[0;36mstep\u001b[0;34m(self, closure)\u001b[0m\n\u001b[1;32m    105\u001b[0m                     \u001b[0mdenom\u001b[0m \u001b[0;34m=\u001b[0m \u001b[0;34m(\u001b[0m\u001b[0mmax_exp_avg_sq\u001b[0m\u001b[0;34m.\u001b[0m\u001b[0msqrt\u001b[0m\u001b[0;34m(\u001b[0m\u001b[0;34m)\u001b[0m \u001b[0;34m/\u001b[0m \u001b[0mmath\u001b[0m\u001b[0;34m.\u001b[0m\u001b[0msqrt\u001b[0m\u001b[0;34m(\u001b[0m\u001b[0mbias_correction2\u001b[0m\u001b[0;34m)\u001b[0m\u001b[0;34m)\u001b[0m\u001b[0;34m.\u001b[0m\u001b[0madd_\u001b[0m\u001b[0;34m(\u001b[0m\u001b[0mgroup\u001b[0m\u001b[0;34m[\u001b[0m\u001b[0;34m'eps'\u001b[0m\u001b[0;34m]\u001b[0m\u001b[0;34m)\u001b[0m\u001b[0;34m\u001b[0m\u001b[0;34m\u001b[0m\u001b[0m\n\u001b[1;32m    106\u001b[0m                 \u001b[0;32melse\u001b[0m\u001b[0;34m:\u001b[0m\u001b[0;34m\u001b[0m\u001b[0;34m\u001b[0m\u001b[0m\n\u001b[0;32m--> 107\u001b[0;31m                     \u001b[0mdenom\u001b[0m \u001b[0;34m=\u001b[0m \u001b[0;34m(\u001b[0m\u001b[0mexp_avg_sq\u001b[0m\u001b[0;34m.\u001b[0m\u001b[0msqrt\u001b[0m\u001b[0;34m(\u001b[0m\u001b[0;34m)\u001b[0m \u001b[0;34m/\u001b[0m \u001b[0mmath\u001b[0m\u001b[0;34m.\u001b[0m\u001b[0msqrt\u001b[0m\u001b[0;34m(\u001b[0m\u001b[0mbias_correction2\u001b[0m\u001b[0;34m)\u001b[0m\u001b[0;34m)\u001b[0m\u001b[0;34m.\u001b[0m\u001b[0madd_\u001b[0m\u001b[0;34m(\u001b[0m\u001b[0mgroup\u001b[0m\u001b[0;34m[\u001b[0m\u001b[0;34m'eps'\u001b[0m\u001b[0;34m]\u001b[0m\u001b[0;34m)\u001b[0m\u001b[0;34m\u001b[0m\u001b[0;34m\u001b[0m\u001b[0m\n\u001b[0m\u001b[1;32m    108\u001b[0m \u001b[0;34m\u001b[0m\u001b[0m\n\u001b[1;32m    109\u001b[0m                 \u001b[0mstep_size\u001b[0m \u001b[0;34m=\u001b[0m \u001b[0mgroup\u001b[0m\u001b[0;34m[\u001b[0m\u001b[0;34m'lr'\u001b[0m\u001b[0;34m]\u001b[0m \u001b[0;34m/\u001b[0m \u001b[0mbias_correction1\u001b[0m\u001b[0;34m\u001b[0m\u001b[0;34m\u001b[0m\u001b[0m\n",
      "\u001b[0;31mKeyboardInterrupt\u001b[0m: "
     ]
    }
   ],
   "source": [
    "from tqdm import tqdm_notebook\n",
    "n_epoch=500\n",
    "k_disc=1\n",
    "model=GAN(bs=batch_size)\n",
    "model=model.cuda()\n",
    "den = train_loader.__len__()*train_loader.batch_size\n",
    "#den_val = valid_loader.__len__()*valid_loader.batch_size\n",
    "global_loss=np.inf\n",
    "for epoch in tqdm_notebook(range(n_epoch)):\n",
    "    train_disc_loss=0.0\n",
    "    ##congelar capas del generador\n",
    "    model=freeze_gen(model)\n",
    "    optimizer = torch.optim.Adam(model.parameters(), lr=1e-3)\n",
    "    for k in range(k_disc):\n",
    "        for image,label in train_loader:\n",
    "            optimizer.zero_grad()  \n",
    "            image=image.cuda()\n",
    "            loss=model.loss_disc(image)\n",
    "            loss.backward()\n",
    "            optimizer.step()\n",
    "            train_disc_loss += loss.item()\n",
    "    print(\"Train loss discriminador: \",train_disc_loss)\n",
    "    ##descongelar capas generador y congelar las de discriminador \n",
    "    model=freeze_disc(model)\n",
    "    optimizer = torch.optim.Adam(model.parameters(), lr=1e-3)\n",
    "    train_gen_loss=0.0\n",
    "    for image,label in train_loader:\n",
    "        optimizer.zero_grad()  \n",
    "        image=image.cuda()\n",
    "        loss=model.loss_gen(image.shape[0])\n",
    "        loss.backward()\n",
    "        optimizer.step()\n",
    "        train_gen_loss += loss.item()\n",
    "    print(\"Train loss generador: \",train_gen_loss)\n"
   ]
  },
  {
   "cell_type": "code",
   "execution_count": 87,
   "metadata": {},
   "outputs": [],
   "source": [
    "model=GAN(device='cpu')\n"
   ]
  },
  {
   "cell_type": "code",
   "execution_count": 60,
   "metadata": {},
   "outputs": [
    {
     "data": {
      "text/plain": [
       "<filter at 0x7fd4473d93d0>"
      ]
     },
     "execution_count": 60,
     "metadata": {},
     "output_type": "execute_result"
    }
   ],
   "source": [
    "filter(lambda p: p.requires_grad, model.parameters())"
   ]
  },
  {
   "cell_type": "code",
   "execution_count": 93,
   "metadata": {},
   "outputs": [],
   "source": [
    "model=freeze_gen(model)"
   ]
  },
  {
   "cell_type": "code",
   "execution_count": 94,
   "metadata": {},
   "outputs": [
    {
     "name": "stdout",
     "output_type": "stream",
     "text": [
      "False\n",
      "False\n",
      "False\n",
      "False\n",
      "False\n",
      "False\n",
      "False\n",
      "False\n",
      "False\n",
      "False\n",
      "True\n",
      "True\n",
      "True\n",
      "True\n",
      "True\n",
      "True\n",
      "True\n",
      "True\n"
     ]
    }
   ],
   "source": [
    "for parameter in model.parameters():\n",
    "    print(parameter.requires_grad)"
   ]
  },
  {
   "cell_type": "code",
   "execution_count": 52,
   "metadata": {},
   "outputs": [],
   "source": [
    "x=model.sample(1)"
   ]
  },
  {
   "cell_type": "code",
   "execution_count": 53,
   "metadata": {},
   "outputs": [],
   "source": [
    "x=model.forward(x)"
   ]
  },
  {
   "cell_type": "code",
   "execution_count": 54,
   "metadata": {},
   "outputs": [
    {
     "data": {
      "text/plain": [
       "<matplotlib.image.AxesImage at 0x7fe1d1a145d0>"
      ]
     },
     "execution_count": 54,
     "metadata": {},
     "output_type": "execute_result"
    },
    {
     "data": {
      "image/png": "[encoded data removed]",
      "text/plain": [
       "<Figure size 432x288 with 1 Axes>"
      ]
     },
     "metadata": {
      "needs_background": "light"
     },
     "output_type": "display_data"
    }
   ],
   "source": [
    "import matplotlib.pyplot as plt\n",
    "x=x.cpu()\n",
    "plt.imshow(x[0][0].detach().numpy(),cmap=\"gray\")"
   ]
  },
  {
   "cell_type": "code",
   "execution_count": null,
   "metadata": {},
   "outputs": [],
   "source": []
  },
  {
   "cell_type": "code",
   "execution_count": null,
   "metadata": {},
   "outputs": [],
   "source": []
  }
 ],
 "metadata": {
  "kernelspec": {
   "display_name": "Python 3",
   "language": "python",
   "name": "python3"
  },
  "language_info": {
   "codemirror_mode": {
    "name": "ipython",
    "version": 3
   },
   "file_extension": ".py",
   "mimetype": "text/x-python",
   "name": "python",
   "nbconvert_exporter": "python",
   "pygments_lexer": "ipython3",
   "version": "3.7.7"
  }
 },
 "nbformat": 4,
 "nbformat_minor": 4
}
