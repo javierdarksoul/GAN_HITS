{
 "cells": [
  {
   "cell_type": "code",
   "execution_count": null,
   "metadata": {},
   "outputs": [],
   "source": []
  },
  {
   "cell_type": "code",
   "execution_count": 1,
   "metadata": {},
   "outputs": [],
   "source": [
    "import torch\n",
    "import matplotlib.pyplot as plt\n",
    "class GAN_Generator(torch.nn.Module):\n",
    "    \n",
    "    def __init__(self, convtrans_channel=[8,16,24,48,1], conv_channel=[1,3,6,1],z_dim=64,channel_input=1,bs=128,device='cuda'):\n",
    "        \n",
    "        super(type(self), self).__init__()\n",
    "        self.z_dim=z_dim\n",
    "        self.batch=bs\n",
    "        self.channel=channel_input\n",
    "        self.device=device\n",
    "        \n",
    "        self.generative_layers = torch.nn.Sequential(\n",
    "                                  torch.nn.ConvTranspose2d(self.channel,convtrans_channel[0],5,stride=2,padding=1 ),\n",
    "                                  torch.nn.BatchNorm2d(convtrans_channel[0]),\n",
    "                                  torch.nn.ReLU(True),\n",
    "                                  torch.nn.ConvTranspose2d(convtrans_channel[0],convtrans_channel[1],5,padding=1),\n",
    "                                  torch.nn.BatchNorm2d(convtrans_channel[1]),\n",
    "                                  torch.nn.ReLU(True),\n",
    "                                  torch.nn.ConvTranspose2d(convtrans_channel[1],convtrans_channel[2],5,padding=1),\n",
    "                                  torch.nn.BatchNorm2d(convtrans_channel[2]),\n",
    "                                  torch.nn.ReLU(True),\n",
    "                                  torch.nn.ConvTranspose2d(convtrans_channel[2],convtrans_channel[3],5,padding=2),\n",
    "                                  torch.nn.BatchNorm2d(convtrans_channel[3]),\n",
    "                                  torch.nn.ReLU(True),\n",
    "                                  torch.nn.ConvTranspose2d(convtrans_channel[3],convtrans_channel[4],5,padding=2),\n",
    "                                  #torch.nn.Sigmoid(),\n",
    "                                 # torch.nn.Tanh(),\n",
    "                                  \n",
    "            \n",
    "                                )\n",
    "    \n",
    "\n",
    "                \n",
    "    \n",
    "    def generador(self, z):\n",
    "        z=z.view(-1,self.channel,8,8)\n",
    "        x_falso=self.generative_layers(z)\n",
    "        x_falso=self.normalize(x_falso)\n",
    "        #print(x_falso.shape)\n",
    "        return x_falso\n",
    "            \n",
    "    def sample(self,size):\n",
    "        z=torch.randn(size,self.channel*self.z_dim , device=self.device)\n",
    "        return z\n",
    "    \n",
    "    def normalize(self,x):\n",
    "        im_min = x.min(dim=-1).values.min(dim=-1).values.reshape(-1, x.shape[1], 1, 1)\n",
    "        im_max = x.max(dim=-1).values.max(dim=-1).values.reshape(-1, x.shape[1], 1, 1)\n",
    "        x = (x - im_min)/(im_max-im_min)\n",
    "        return x\n",
    "       \n",
    "\n",
    "class GAN_Discriminator(torch.nn.Module):\n",
    "    \n",
    "    def __init__(self, convtrans_channel=[6,3,1], conv_channel=[1,6,12,24,1],z_dim=100,channel_input=1,bs=128,device='cuda'):\n",
    "        \n",
    "        super(type(self), self).__init__()\n",
    "        self.z_dim=z_dim\n",
    "        self.batch=bs\n",
    "        self.channel=channel_input\n",
    "        self.device=device\n",
    "        \n",
    "        ##capas generadoras\n",
    "        self.discriminator_layers= torch.nn.Sequential(\n",
    "                                   torch.nn.Conv2d(conv_channel[0],conv_channel[1],5,stride=1,padding=1),\n",
    "                                   torch.nn.BatchNorm2d(conv_channel[1]),\n",
    "                                   torch.nn.LeakyReLU(0.2),\n",
    "                                   torch.nn.Conv2d(conv_channel[1],conv_channel[2],5,stride=2,padding=1),\n",
    "                                   torch.nn.BatchNorm2d(conv_channel[2]),\n",
    "                                   torch.nn.LeakyReLU(0.2),\n",
    "                                   torch.nn.Conv2d(conv_channel[2],conv_channel[3],5,stride=1,padding=1),\n",
    "                                   torch.nn.BatchNorm2d(conv_channel[3]),\n",
    "                                   torch.nn.LeakyReLU(0.2),\n",
    "                                   torch.nn.Conv2d(conv_channel[3],conv_channel[3],6,stride=2,padding=1),\n",
    "                                   torch.nn.BatchNorm2d(conv_channel[3]),\n",
    "                                   torch.nn.LeakyReLU(0.2),\n",
    "                                   torch.nn.Conv2d(conv_channel[3],conv_channel[4],4,stride=2,padding=1),\n",
    "                                   torch.nn.Sigmoid(),                                \n",
    "        \n",
    "                                )\n",
    "\n",
    "        \n",
    "    def discriminador(self,supuesto_x):\n",
    "        noise=torch.randn(supuesto_x.shape , device=self.device) ##agregando ruido blanco gaussiano para estabilizar entrenamiento\n",
    "        supuesto_x= torch.clamp(supuesto_x + noise,0.01, 1.0) \n",
    "        supuesto_x=self.discriminator_layers(supuesto_x)\n",
    "        supuesto_x=supuesto_x.view(-1)\n",
    "        \n",
    "        return supuesto_x\n",
    "    \n",
    "def loss_disc(disc_datos_xfalso,disc_datos_x,size):\n",
    "    loss=(torch.log(disc_datos_x) + torch.log(1 - disc_datos_xfalso) ).sum() / size\n",
    "    return -loss\n",
    "    \n",
    "def loss_gen(disc_datos_xfalso,size):\n",
    "    loss=torch.log(disc_datos_xfalso).sum() / size\n",
    "    return -loss"
   ]
  },
  {
   "cell_type": "code",
   "execution_count": null,
   "metadata": {},
   "outputs": [],
   "source": [
    "ls /opt/data-nas/HiTS"
   ]
  },
  {
   "cell_type": "markdown",
   "metadata": {},
   "source": [
    "### cargamos el CSV de entrenamiento"
   ]
  },
  {
   "cell_type": "code",
   "execution_count": 2,
   "metadata": {},
   "outputs": [],
   "source": [
    "import pandas as pd\n",
    "import numpy as np\n",
    "df=pd.read_csv(\"/opt/data-nas/HiTS/images_train.csv\",header=None)\n",
    "differences=np.array(df.iloc[:,0:21*21])\n",
    "df=0  ##manera trucha de liberar memoria by javier rojas\n",
    "df=pd.read_csv(\"/opt/data-nas/HiTS/label_train.csv\",header=None)\n",
    "labels=np.array(df)\n",
    "df=0"
   ]
  },
  {
   "cell_type": "markdown",
   "metadata": {},
   "source": [
    "### creamos dataloader"
   ]
  },
  {
   "cell_type": "code",
   "execution_count": 3,
   "metadata": {},
   "outputs": [],
   "source": [
    "from torch.utils.data import TensorDataset, DataLoader, Subset \n",
    "batch_size=128\n",
    "astro_image_tensor=torch.from_numpy(differences.astype('float32')).view(-1,1,21,21)\n",
    "im_min = astro_image_tensor.min(dim=-1).values.min(dim=-1).values.reshape(-1, 1, 1, 1)\n",
    "im_max = astro_image_tensor.max(dim=-1).values.max(dim=-1).values.reshape(-1, 1, 1, 1)\n",
    "astro_image_tensor = (astro_image_tensor - im_min)/(im_max-im_min)\n",
    "\n",
    "astro_dataset = TensorDataset(astro_image_tensor, torch.from_numpy(labels))\n",
    "\n",
    "train_loader = DataLoader(astro_dataset, \n",
    "                          batch_size=batch_size, \n",
    "                          shuffle=True)"
   ]
  },
  {
   "cell_type": "code",
   "execution_count": 5,
   "metadata": {},
   "outputs": [],
   "source": [
    "### test section\n",
    "\"\"\" \n",
    "import torchvision\n",
    "import torchvision.datasets as datasets\n",
    "import numpy as np\n",
    "\n",
    "batch_size=128\n",
    "mnist_train_data = torchvision.datasets.MNIST('dataset', train=True, download=True,\n",
    "                                              transform=torchvision.transforms.ToTensor())\n",
    "mnist_test_data = torchvision.datasets.MNIST('dataset', train=False, download=True,\n",
    "                                             transform=torchvision.transforms.ToTensor())\n",
    "from torch.utils.data import DataLoader, SubsetRandomSampler\n",
    "\n",
    "np.random.seed(0)\n",
    "#idx = list(range(len(mnist_train_data)))\n",
    "idx = list(range(10000))\n",
    "np.random.shuffle(idx)\n",
    "split = int(0.7*len(idx))\n",
    "\n",
    "train_loader = DataLoader(mnist_train_data, batch_size=batch_size, \n",
    "                          sampler=SubsetRandomSampler(idx[:split]))\n",
    "\n",
    "valid_loader = DataLoader(mnist_train_data, batch_size=batch_size, \n",
    "                          sampler=SubsetRandomSampler(idx[split:]))\n",
    "\n",
    "\"\"\" ;"
   ]
  },
  {
   "cell_type": "code",
   "execution_count": 15,
   "metadata": {},
   "outputs": [
    {
     "data": {
      "image/png": "[encoded data removed]",
      "text/plain": [
       "<Figure size 432x288 with 1 Axes>"
      ]
     },
     "metadata": {
      "needs_background": "light"
     },
     "output_type": "display_data"
    }
   ],
   "source": [
    "\n",
    "for image,label in train_loader:\n",
    "    \n",
    "    plt.imshow(image[0][0].detach())\n",
    "    break"
   ]
  },
  {
   "cell_type": "code",
   "execution_count": null,
   "metadata": {},
   "outputs": [],
   "source": []
  },
  {
   "cell_type": "markdown",
   "metadata": {},
   "source": [
    "## Entrenamiento"
   ]
  },
  {
   "cell_type": "code",
   "execution_count": 16,
   "metadata": {},
   "outputs": [
    {
     "name": "stderr",
     "output_type": "stream",
     "text": [
      "/home/admin/miniconda3/envs/PT/lib/python3.7/site-packages/ipykernel_launcher.py:12: TqdmDeprecationWarning: This function will be removed in tqdm==5.0.0\n",
      "Please use `tqdm.notebook.tqdm` instead of `tqdm.tqdm_notebook`\n",
      "  if sys.path[0] == '':\n"
     ]
    },
    {
     "data": {
      "application/vnd.jupyter.widget-view+json": {
       "model_id": "784845aee33a4ba3871a79653d2fa6eb",
       "version_major": 2,
       "version_minor": 0
      },
      "text/plain": [
       "HBox(children=(FloatProgress(value=0.0, max=500.0), HTML(value='')))"
      ]
     },
     "metadata": {},
     "output_type": "display_data"
    },
    {
     "name": "stdout",
     "output_type": "stream",
     "text": [
      "Train loss discriminador: 0.010854  Train loss Generator :0.005444 \n",
      "\n"
     ]
    },
    {
     "ename": "KeyboardInterrupt",
     "evalue": "",
     "output_type": "error",
     "traceback": [
      "\u001b[0;31m---------------------------------------------------------------------------\u001b[0m",
      "\u001b[0;31mKeyboardInterrupt\u001b[0m                         Traceback (most recent call last)",
      "\u001b[0;32m<ipython-input-16-f51e72d28927>\u001b[0m in \u001b[0;36m<module>\u001b[0;34m\u001b[0m\n\u001b[1;32m     45\u001b[0m             \u001b[0moptimizer_gen\u001b[0m\u001b[0;34m.\u001b[0m\u001b[0mzero_grad\u001b[0m\u001b[0;34m(\u001b[0m\u001b[0;34m)\u001b[0m\u001b[0;34m\u001b[0m\u001b[0;34m\u001b[0m\u001b[0m\n\u001b[1;32m     46\u001b[0m             \u001b[0mlabel\u001b[0m\u001b[0;34m.\u001b[0m\u001b[0mfill_\u001b[0m\u001b[0;34m(\u001b[0m\u001b[0;36m1\u001b[0m\u001b[0;34m)\u001b[0m\u001b[0;34m\u001b[0m\u001b[0;34m\u001b[0m\u001b[0m\n\u001b[0;32m---> 47\u001b[0;31m             \u001b[0moutput\u001b[0m\u001b[0;34m=\u001b[0m\u001b[0mDISC\u001b[0m\u001b[0;34m.\u001b[0m\u001b[0mdiscriminador\u001b[0m\u001b[0;34m(\u001b[0m\u001b[0mfake\u001b[0m\u001b[0;34m)\u001b[0m\u001b[0;31m#.view(-1)\u001b[0m\u001b[0;34m\u001b[0m\u001b[0;34m\u001b[0m\u001b[0m\n\u001b[0m\u001b[1;32m     48\u001b[0m             \u001b[0mlossG\u001b[0m\u001b[0;34m=\u001b[0m\u001b[0mcriterion\u001b[0m\u001b[0;34m(\u001b[0m\u001b[0moutput\u001b[0m\u001b[0;34m,\u001b[0m\u001b[0mlabel\u001b[0m\u001b[0;34m)\u001b[0m\u001b[0;34m\u001b[0m\u001b[0;34m\u001b[0m\u001b[0m\n\u001b[1;32m     49\u001b[0m             \u001b[0;31m#lossG=loss_gen(output,image.shape[0])\u001b[0m\u001b[0;34m\u001b[0m\u001b[0;34m\u001b[0m\u001b[0;34m\u001b[0m\u001b[0m\n",
      "\u001b[0;32m<ipython-input-1-0e300292765e>\u001b[0m in \u001b[0;36mdiscriminador\u001b[0;34m(self, supuesto_x)\u001b[0m\n\u001b[1;32m     84\u001b[0m         \u001b[0mnoise\u001b[0m\u001b[0;34m=\u001b[0m\u001b[0mtorch\u001b[0m\u001b[0;34m.\u001b[0m\u001b[0mrandn\u001b[0m\u001b[0;34m(\u001b[0m\u001b[0msupuesto_x\u001b[0m\u001b[0;34m.\u001b[0m\u001b[0mshape\u001b[0m \u001b[0;34m,\u001b[0m \u001b[0mdevice\u001b[0m\u001b[0;34m=\u001b[0m\u001b[0mself\u001b[0m\u001b[0;34m.\u001b[0m\u001b[0mdevice\u001b[0m\u001b[0;34m)\u001b[0m \u001b[0;31m##agregando ruido blanco gaussiano para estabilizar entrenamiento\u001b[0m\u001b[0;34m\u001b[0m\u001b[0;34m\u001b[0m\u001b[0m\n\u001b[1;32m     85\u001b[0m         \u001b[0msupuesto_x\u001b[0m\u001b[0;34m=\u001b[0m \u001b[0mtorch\u001b[0m\u001b[0;34m.\u001b[0m\u001b[0mclamp\u001b[0m\u001b[0;34m(\u001b[0m\u001b[0msupuesto_x\u001b[0m \u001b[0;34m+\u001b[0m \u001b[0mnoise\u001b[0m\u001b[0;34m,\u001b[0m\u001b[0;36m0.01\u001b[0m\u001b[0;34m,\u001b[0m \u001b[0;36m1.0\u001b[0m\u001b[0;34m)\u001b[0m\u001b[0;34m\u001b[0m\u001b[0;34m\u001b[0m\u001b[0m\n\u001b[0;32m---> 86\u001b[0;31m         \u001b[0msupuesto_x\u001b[0m\u001b[0;34m=\u001b[0m\u001b[0mself\u001b[0m\u001b[0;34m.\u001b[0m\u001b[0mdiscriminator_layers\u001b[0m\u001b[0;34m(\u001b[0m\u001b[0msupuesto_x\u001b[0m\u001b[0;34m)\u001b[0m\u001b[0;34m\u001b[0m\u001b[0;34m\u001b[0m\u001b[0m\n\u001b[0m\u001b[1;32m     87\u001b[0m         \u001b[0msupuesto_x\u001b[0m\u001b[0;34m=\u001b[0m\u001b[0msupuesto_x\u001b[0m\u001b[0;34m.\u001b[0m\u001b[0mview\u001b[0m\u001b[0;34m(\u001b[0m\u001b[0;34m-\u001b[0m\u001b[0;36m1\u001b[0m\u001b[0;34m)\u001b[0m\u001b[0;34m\u001b[0m\u001b[0;34m\u001b[0m\u001b[0m\n\u001b[1;32m     88\u001b[0m \u001b[0;34m\u001b[0m\u001b[0m\n",
      "\u001b[0;32m/home/admin/miniconda3/envs/PT/lib/python3.7/site-packages/torch/nn/modules/module.py\u001b[0m in \u001b[0;36m__call__\u001b[0;34m(self, *input, **kwargs)\u001b[0m\n\u001b[1;32m    548\u001b[0m             \u001b[0mresult\u001b[0m \u001b[0;34m=\u001b[0m \u001b[0mself\u001b[0m\u001b[0;34m.\u001b[0m\u001b[0m_slow_forward\u001b[0m\u001b[0;34m(\u001b[0m\u001b[0;34m*\u001b[0m\u001b[0minput\u001b[0m\u001b[0;34m,\u001b[0m \u001b[0;34m**\u001b[0m\u001b[0mkwargs\u001b[0m\u001b[0;34m)\u001b[0m\u001b[0;34m\u001b[0m\u001b[0;34m\u001b[0m\u001b[0m\n\u001b[1;32m    549\u001b[0m         \u001b[0;32melse\u001b[0m\u001b[0;34m:\u001b[0m\u001b[0;34m\u001b[0m\u001b[0;34m\u001b[0m\u001b[0m\n\u001b[0;32m--> 550\u001b[0;31m             \u001b[0mresult\u001b[0m \u001b[0;34m=\u001b[0m \u001b[0mself\u001b[0m\u001b[0;34m.\u001b[0m\u001b[0mforward\u001b[0m\u001b[0;34m(\u001b[0m\u001b[0;34m*\u001b[0m\u001b[0minput\u001b[0m\u001b[0;34m,\u001b[0m \u001b[0;34m**\u001b[0m\u001b[0mkwargs\u001b[0m\u001b[0;34m)\u001b[0m\u001b[0;34m\u001b[0m\u001b[0;34m\u001b[0m\u001b[0m\n\u001b[0m\u001b[1;32m    551\u001b[0m         \u001b[0;32mfor\u001b[0m \u001b[0mhook\u001b[0m \u001b[0;32min\u001b[0m \u001b[0mself\u001b[0m\u001b[0;34m.\u001b[0m\u001b[0m_forward_hooks\u001b[0m\u001b[0;34m.\u001b[0m\u001b[0mvalues\u001b[0m\u001b[0;34m(\u001b[0m\u001b[0;34m)\u001b[0m\u001b[0;34m:\u001b[0m\u001b[0;34m\u001b[0m\u001b[0;34m\u001b[0m\u001b[0m\n\u001b[1;32m    552\u001b[0m             \u001b[0mhook_result\u001b[0m \u001b[0;34m=\u001b[0m \u001b[0mhook\u001b[0m\u001b[0;34m(\u001b[0m\u001b[0mself\u001b[0m\u001b[0;34m,\u001b[0m \u001b[0minput\u001b[0m\u001b[0;34m,\u001b[0m \u001b[0mresult\u001b[0m\u001b[0;34m)\u001b[0m\u001b[0;34m\u001b[0m\u001b[0;34m\u001b[0m\u001b[0m\n",
      "\u001b[0;32m/home/admin/miniconda3/envs/PT/lib/python3.7/site-packages/torch/nn/modules/container.py\u001b[0m in \u001b[0;36mforward\u001b[0;34m(self, input)\u001b[0m\n\u001b[1;32m     98\u001b[0m     \u001b[0;32mdef\u001b[0m \u001b[0mforward\u001b[0m\u001b[0;34m(\u001b[0m\u001b[0mself\u001b[0m\u001b[0;34m,\u001b[0m \u001b[0minput\u001b[0m\u001b[0;34m)\u001b[0m\u001b[0;34m:\u001b[0m\u001b[0;34m\u001b[0m\u001b[0;34m\u001b[0m\u001b[0m\n\u001b[1;32m     99\u001b[0m         \u001b[0;32mfor\u001b[0m \u001b[0mmodule\u001b[0m \u001b[0;32min\u001b[0m \u001b[0mself\u001b[0m\u001b[0;34m:\u001b[0m\u001b[0;34m\u001b[0m\u001b[0;34m\u001b[0m\u001b[0m\n\u001b[0;32m--> 100\u001b[0;31m             \u001b[0minput\u001b[0m \u001b[0;34m=\u001b[0m \u001b[0mmodule\u001b[0m\u001b[0;34m(\u001b[0m\u001b[0minput\u001b[0m\u001b[0;34m)\u001b[0m\u001b[0;34m\u001b[0m\u001b[0;34m\u001b[0m\u001b[0m\n\u001b[0m\u001b[1;32m    101\u001b[0m         \u001b[0;32mreturn\u001b[0m \u001b[0minput\u001b[0m\u001b[0;34m\u001b[0m\u001b[0;34m\u001b[0m\u001b[0m\n\u001b[1;32m    102\u001b[0m \u001b[0;34m\u001b[0m\u001b[0m\n",
      "\u001b[0;32m/home/admin/miniconda3/envs/PT/lib/python3.7/site-packages/torch/nn/modules/module.py\u001b[0m in \u001b[0;36m__call__\u001b[0;34m(self, *input, **kwargs)\u001b[0m\n\u001b[1;32m    548\u001b[0m             \u001b[0mresult\u001b[0m \u001b[0;34m=\u001b[0m \u001b[0mself\u001b[0m\u001b[0;34m.\u001b[0m\u001b[0m_slow_forward\u001b[0m\u001b[0;34m(\u001b[0m\u001b[0;34m*\u001b[0m\u001b[0minput\u001b[0m\u001b[0;34m,\u001b[0m \u001b[0;34m**\u001b[0m\u001b[0mkwargs\u001b[0m\u001b[0;34m)\u001b[0m\u001b[0;34m\u001b[0m\u001b[0;34m\u001b[0m\u001b[0m\n\u001b[1;32m    549\u001b[0m         \u001b[0;32melse\u001b[0m\u001b[0;34m:\u001b[0m\u001b[0;34m\u001b[0m\u001b[0;34m\u001b[0m\u001b[0m\n\u001b[0;32m--> 550\u001b[0;31m             \u001b[0mresult\u001b[0m \u001b[0;34m=\u001b[0m \u001b[0mself\u001b[0m\u001b[0;34m.\u001b[0m\u001b[0mforward\u001b[0m\u001b[0;34m(\u001b[0m\u001b[0;34m*\u001b[0m\u001b[0minput\u001b[0m\u001b[0;34m,\u001b[0m \u001b[0;34m**\u001b[0m\u001b[0mkwargs\u001b[0m\u001b[0;34m)\u001b[0m\u001b[0;34m\u001b[0m\u001b[0;34m\u001b[0m\u001b[0m\n\u001b[0m\u001b[1;32m    551\u001b[0m         \u001b[0;32mfor\u001b[0m \u001b[0mhook\u001b[0m \u001b[0;32min\u001b[0m \u001b[0mself\u001b[0m\u001b[0;34m.\u001b[0m\u001b[0m_forward_hooks\u001b[0m\u001b[0;34m.\u001b[0m\u001b[0mvalues\u001b[0m\u001b[0;34m(\u001b[0m\u001b[0;34m)\u001b[0m\u001b[0;34m:\u001b[0m\u001b[0;34m\u001b[0m\u001b[0;34m\u001b[0m\u001b[0m\n\u001b[1;32m    552\u001b[0m             \u001b[0mhook_result\u001b[0m \u001b[0;34m=\u001b[0m \u001b[0mhook\u001b[0m\u001b[0;34m(\u001b[0m\u001b[0mself\u001b[0m\u001b[0;34m,\u001b[0m \u001b[0minput\u001b[0m\u001b[0;34m,\u001b[0m \u001b[0mresult\u001b[0m\u001b[0;34m)\u001b[0m\u001b[0;34m\u001b[0m\u001b[0;34m\u001b[0m\u001b[0m\n",
      "\u001b[0;32m/home/admin/miniconda3/envs/PT/lib/python3.7/site-packages/torch/nn/modules/conv.py\u001b[0m in \u001b[0;36mforward\u001b[0;34m(self, input)\u001b[0m\n\u001b[1;32m    351\u001b[0m \u001b[0;34m\u001b[0m\u001b[0m\n\u001b[1;32m    352\u001b[0m     \u001b[0;32mdef\u001b[0m \u001b[0mforward\u001b[0m\u001b[0;34m(\u001b[0m\u001b[0mself\u001b[0m\u001b[0;34m,\u001b[0m \u001b[0minput\u001b[0m\u001b[0;34m)\u001b[0m\u001b[0;34m:\u001b[0m\u001b[0;34m\u001b[0m\u001b[0;34m\u001b[0m\u001b[0m\n\u001b[0;32m--> 353\u001b[0;31m         \u001b[0;32mreturn\u001b[0m \u001b[0mself\u001b[0m\u001b[0;34m.\u001b[0m\u001b[0m_conv_forward\u001b[0m\u001b[0;34m(\u001b[0m\u001b[0minput\u001b[0m\u001b[0;34m,\u001b[0m \u001b[0mself\u001b[0m\u001b[0;34m.\u001b[0m\u001b[0mweight\u001b[0m\u001b[0;34m)\u001b[0m\u001b[0;34m\u001b[0m\u001b[0;34m\u001b[0m\u001b[0m\n\u001b[0m\u001b[1;32m    354\u001b[0m \u001b[0;34m\u001b[0m\u001b[0m\n\u001b[1;32m    355\u001b[0m \u001b[0;32mclass\u001b[0m \u001b[0mConv3d\u001b[0m\u001b[0;34m(\u001b[0m\u001b[0m_ConvNd\u001b[0m\u001b[0;34m)\u001b[0m\u001b[0;34m:\u001b[0m\u001b[0;34m\u001b[0m\u001b[0;34m\u001b[0m\u001b[0m\n",
      "\u001b[0;32m/home/admin/miniconda3/envs/PT/lib/python3.7/site-packages/torch/nn/modules/conv.py\u001b[0m in \u001b[0;36m_conv_forward\u001b[0;34m(self, input, weight)\u001b[0m\n\u001b[1;32m    348\u001b[0m                             _pair(0), self.dilation, self.groups)\n\u001b[1;32m    349\u001b[0m         return F.conv2d(input, weight, self.bias, self.stride,\n\u001b[0;32m--> 350\u001b[0;31m                         self.padding, self.dilation, self.groups)\n\u001b[0m\u001b[1;32m    351\u001b[0m \u001b[0;34m\u001b[0m\u001b[0m\n\u001b[1;32m    352\u001b[0m     \u001b[0;32mdef\u001b[0m \u001b[0mforward\u001b[0m\u001b[0;34m(\u001b[0m\u001b[0mself\u001b[0m\u001b[0;34m,\u001b[0m \u001b[0minput\u001b[0m\u001b[0;34m)\u001b[0m\u001b[0;34m:\u001b[0m\u001b[0;34m\u001b[0m\u001b[0;34m\u001b[0m\u001b[0m\n",
      "\u001b[0;31mKeyboardInterrupt\u001b[0m: "
     ]
    }
   ],
   "source": [
    "from tqdm import tqdm_notebook\n",
    "n_epoch=500\n",
    "k_disc=1\n",
    "device='cuda'\n",
    "GEN=GAN_Generator(bs=batch_size).cuda()\n",
    "DISC=GAN_Discriminator(bs=batch_size).cuda()\n",
    "optimizer_gen = torch.optim.Adam(GEN.parameters(), lr=0.0002)\n",
    "optimizer_disc = torch.optim.Adam(DISC.parameters(), lr=0.0002)\n",
    "den = train_loader.__len__()*train_loader.batch_size\n",
    "criterion = torch.nn.BCELoss()\n",
    "global_loss=np.inf\n",
    "for epoch in tqdm_notebook(range(n_epoch)):\n",
    "    for k in range(k_disc):\n",
    "        train_disc_loss=0.0\n",
    "        train_gen_loss=0.0\n",
    "        for image,label in train_loader:\n",
    "            optimizer_disc.zero_grad()  \n",
    "            ##Para Mnist\n",
    "            #image=image[:,:,7:28,7:28]\n",
    "            #im_min = image.min(dim=-1).values.min(dim=-1).values.reshape(-1, 1, 1, 1)\n",
    "            #im_max = image.max(dim=-1).values.max(dim=-1).values.reshape(-1, 1, 1, 1)\n",
    "            #image = (image - im_min)/(im_max-im_min)\n",
    "            ##fin de Mnist\n",
    "            image=image.cuda()\n",
    "            \n",
    "            ##Train for real images\n",
    "            output_real = DISC.discriminador(image)#.view(-1)\n",
    "            label = torch.full((image.shape[0],), 1.0, dtype=torch.float, device=image.device)\n",
    "            lossD_real=criterion(output_real,label)\n",
    "            lossD_real.backward()\n",
    "            ##Train disc fake image\n",
    "            label.fill_(0)\n",
    "            fake=GEN.generador(GEN.sample(image.shape[0]))\n",
    "            output_fake_D = DISC.discriminador(fake.detach())#.view(-1)\n",
    "            lossD_fake=criterion(output_fake_D,label)\n",
    "            lossD_fake.backward()\n",
    "            #lossD=loss_disc(output_fake_D,output_real,image.shape[0])\n",
    "            #lossD.backward()\n",
    "            total_loss=lossD_fake + lossD_real\n",
    "            optimizer_disc.step()\n",
    "            #train_disc_loss += lossD.item()\n",
    "            train_disc_loss+=total_loss.item() /den\n",
    "            \n",
    "            ##Train generator\n",
    "            optimizer_gen.zero_grad()  \n",
    "            label.fill_(1) \n",
    "            output=DISC.discriminador(fake)#.view(-1)\n",
    "            lossG=criterion(output,label)\n",
    "            #lossG=loss_gen(output,image.shape[0])\n",
    "            lossG.backward()\n",
    "            #optimizer_disc.step()\n",
    "            optimizer_gen.step()\n",
    "            train_gen_loss+=lossG.item() / den\n",
    "                               \n",
    "                                 \n",
    "            \n",
    "            \n",
    "    print(\"Train loss discriminador: %f  Train loss Generator :%f \"%(train_disc_loss,train_gen_loss))\n",
    "\n"
   ]
  },
  {
   "cell_type": "markdown",
   "metadata": {},
   "source": [
    "## Guardando el modelito "
   ]
  },
  {
   "cell_type": "code",
   "execution_count": null,
   "metadata": {},
   "outputs": [],
   "source": [
    "torch.save(GEN.state_dict(), '/opt/data-nas/Models_Javier/GEN_HITS_2.pt')\n",
    "torch.save(DISC.state_dict(), '/opt/data-nas/Models_Javier/DISC_HITS_2.pt')"
   ]
  },
  {
   "cell_type": "markdown",
   "metadata": {},
   "source": [
    "## Cargamos los modelos"
   ]
  },
  {
   "cell_type": "code",
   "execution_count": 4,
   "metadata": {},
   "outputs": [
    {
     "data": {
      "text/plain": [
       "<All keys matched successfully>"
      ]
     },
     "execution_count": 4,
     "metadata": {},
     "output_type": "execute_result"
    }
   ],
   "source": [
    "GEN=GAN_Generator(device='cpu')\n",
    "DISC=GAN_Discriminator(device='cpu')\n",
    "GEN.load_state_dict(torch.load(\"/opt/data-nas/Models_Javier/GEN_HITS.pt\"))\n",
    "DISC.load_state_dict(torch.load(\"/opt/data-nas/Models_Javier/DISC_HITS.pt\"))"
   ]
  },
  {
   "cell_type": "markdown",
   "metadata": {},
   "source": [
    "#### Muestras desde red generativa"
   ]
  },
  {
   "cell_type": "code",
   "execution_count": 7,
   "metadata": {},
   "outputs": [
    {
     "data": {
      "image/png": "[encoded data removed]",
      "text/plain": [
       "<Figure size 1440x288 with 20 Axes>"
      ]
     },
     "metadata": {
      "needs_background": "light"
     },
     "output_type": "display_data"
    }
   ],
   "source": [
    "import matplotlib.pyplot as plt\n",
    "fig, ax = plt.subplots(2, 10, figsize=(20, 4))\n",
    "for i in range(2):\n",
    "    for j in range(10):\n",
    "        ax[i,j].imshow(GEN.generador(GEN.sample(1))[0][0].cpu().detach().numpy(),cmap=\"gray\")\n",
    "        ax[i,j].axis('off')\n"
   ]
  },
  {
   "cell_type": "code",
   "execution_count": null,
   "metadata": {},
   "outputs": [],
   "source": []
  },
  {
   "cell_type": "code",
   "execution_count": null,
   "metadata": {},
   "outputs": [],
   "source": []
  }
 ],
 "metadata": {
  "kernelspec": {
   "display_name": "Python 3",
   "language": "python",
   "name": "python3"
  },
  "language_info": {
   "codemirror_mode": {
    "name": "ipython",
    "version": 3
   },
   "file_extension": ".py",
   "mimetype": "text/x-python",
   "name": "python",
   "nbconvert_exporter": "python",
   "pygments_lexer": "ipython3",
   "version": "3.7.7"
  }
 },
 "nbformat": 4,
 "nbformat_minor": 4
}
